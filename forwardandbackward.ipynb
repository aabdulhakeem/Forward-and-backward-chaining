{
  "cells": [
    {
      "cell_type": "markdown",
      "metadata": {
        "colab_type": "text",
        "id": "view-in-github"
      },
      "source": [
        "<a href=\"https://colab.research.google.com/github/aabdulhakeem/Forward-and-backward-chaining/blob/main/forwardandbackward.ipynb\" target=\"_parent\"><img src=\"https://colab.research.google.com/assets/colab-badge.svg\" alt=\"Open In Colab\"/></a>"
      ]
    },
    {
      "cell_type": "code",
      "execution_count": 1,
      "metadata": {
        "id": "6lGTl0GOI4Xo"
      },
      "outputs": [],
      "source": [
        "facts = {}\n",
        "rules = {}"
      ]
    },
    {
      "cell_type": "code",
      "execution_count": 2,
      "metadata": {
        "id": "7Wv0WqfhNoDK"
      },
      "outputs": [],
      "source": [
        "def convert_fact(line):\n",
        "    fact = line.strip().split()\n",
        "    if len(fact) > 1:\n",
        "      if fact[1] == '>=' or fact[1] == '<=' or fact[1] == '<' or fact[1] == '>' or fact[1] == '=':\n",
        "        return fact[0], (fact[1], int(fact[2]))\n",
        "      else:\n",
        "        return fact[0], fact[-1]\n",
        "\n",
        "    elif len(fact) == 1:\n",
        "        return fact[0], True\n",
        "    else:\n",
        "        return None, None"
      ]
    },
    {
      "cell_type": "code",
      "execution_count": 3,
      "metadata": {
        "id": "-TZVl4GnVO8H"
      },
      "outputs": [],
      "source": [
        "def add_fact(line, facts):\n",
        "    var, val = convert_fact(line)\n",
        "    facts[var] = val"
      ]
    },
    {
      "cell_type": "code",
      "execution_count": 4,
      "metadata": {
        "id": "NP4UJrpJPyK-"
      },
      "outputs": [],
      "source": [
        "with open('content/facts.txt', 'r') as fact_file:\n",
        "    for line in fact_file:\n",
        "        add_fact(line, facts)"
      ]
    },
    {
      "cell_type": "code",
      "execution_count": 5,
      "metadata": {
        "colab": {
          "base_uri": "https://localhost:8080/"
        },
        "id": "lKrb7wqNRYbV",
        "outputId": "c669d811-fa53-4a39-e323-d994e4128709"
      },
      "outputs": [
        {
          "data": {
            "text/plain": [
              "{'seeds': ('=', 0),\n",
              " 'diameter': ('=', 7),\n",
              " 'skin_smell': True,\n",
              " 'color': 'orange',\n",
              " '#goal': 'citrus_fruit'}"
            ]
          },
          "execution_count": 5,
          "metadata": {},
          "output_type": "execute_result"
        }
      ],
      "source": [
        "facts\n",
        "# test = 'seeds = 0'\n",
        "# test2 ='skin_smell'\n",
        "# ans = test.strip().split()\n",
        "# ans2 = test2.strip().split()\n",
        "\n",
        "# print(len(ans))  # 3\n",
        "# print(len(ans2)) # 1"
      ]
    },
    {
      "cell_type": "code",
      "execution_count": 6,
      "metadata": {
        "id": "QjeqvgQeQtgv"
      },
      "outputs": [],
      "source": [
        "def convert_rule(line):\n",
        "    rule = line.strip().split(' THEN ')\n",
        "    if_part = rule[0].strip()[3:]\n",
        "    then_part = rule[1].strip()\n",
        "    return if_part, then_part"
      ]
    },
    {
      "cell_type": "code",
      "execution_count": 7,
      "metadata": {
        "id": "_dLxpZ0BVaze"
      },
      "outputs": [],
      "source": [
        "def add_rule(line, i):\n",
        "    if_part, then_part = convert_rule(line)\n",
        "    rules[(if_part, i)] = then_part   # if this, then that"
      ]
    },
    {
      "cell_type": "code",
      "execution_count": 8,
      "metadata": {
        "id": "zfcxv3JxQezJ"
      },
      "outputs": [],
      "source": [
        "with open('content/rules.txt', 'r') as rule_file:\n",
        "    i = 1\n",
        "    for line in rule_file:\n",
        "        add_rule(line, i)\n",
        "        i += 1"
      ]
    },
    {
      "cell_type": "code",
      "execution_count": 9,
      "metadata": {
        "colab": {
          "base_uri": "https://localhost:8080/"
        },
        "id": "fdN1W5IZRdQ7",
        "outputId": "06ac834a-c722-4efe-a1d1-acdf15deada8"
      },
      "outputs": [
        {
          "data": {
            "text/plain": [
              "{('shape is long AND color is yellow', 1): 'fruit is banana',\n",
              " ('shape is round AND color is red AND size is medium', 2): 'fruit is apple',\n",
              " ('shape is round AND color is red AND size is small', 3): 'fruit is cherry',\n",
              " ('skin_smell', 4): 'perfumed',\n",
              " ('fruit is lemon OR fruit is orange OR fruit is pomelo OR fruit is grapefruit',\n",
              "  5): 'citrus_fruit',\n",
              " ('size is medium AND color is yellow AND perfumed', 6): 'fruit is lemon',\n",
              " ('size is medium AND color is green', 7): 'fruit is kiwi',\n",
              " ('size is big AND perfumed AND color is orange AND citrus_fruit',\n",
              "  8): 'fruit is grapefruit',\n",
              " ('perfumed AND color is orange AND size is medium', 9): 'fruit is orange',\n",
              " ('perfumed AND color is red AND size is small AND seeds = 0',\n",
              "  10): 'fruit is strawberry',\n",
              " ('diameter < 2', 11): 'size is small',\n",
              " ('diameter > 10', 12): 'size is big',\n",
              " ('diameter > 2 AND diameter < 10', 13): 'size is medium'}"
            ]
          },
          "execution_count": 9,
          "metadata": {},
          "output_type": "execute_result"
        }
      ],
      "source": [
        "rules"
      ]
    },
    {
      "cell_type": "code",
      "execution_count": 10,
      "metadata": {
        "id": "5obwXBk1nkQo"
      },
      "outputs": [],
      "source": [
        "def compare(a, op, b, op2):\n",
        "  if op2 == '=':\n",
        "    if op == '>=':\n",
        "        return a >= b\n",
        "    elif op == '<=':\n",
        "        return a <= b\n",
        "    elif op == '<':\n",
        "        return a < b\n",
        "    elif op == '>':\n",
        "        return a > b\n",
        "    elif op == '=':\n",
        "        return a == b"
      ]
    },
    {
      "cell_type": "code",
      "execution_count": 11,
      "metadata": {
        "id": "EaQeGhJzQNyX"
      },
      "outputs": [],
      "source": [
        "def check_rule(if_part, facts):\n",
        "    check_list = []\n",
        "    And = False\n",
        "    Or = False\n",
        "    if 'AND' in if_part:\n",
        "        And = True\n",
        "        if_part = if_part.split(' AND ')\n",
        "    elif 'OR' in if_part:\n",
        "        Or = True\n",
        "        if_part = if_part.split(' OR ')\n",
        "    else:\n",
        "        if_part = [if_part]\n",
        "\n",
        "    for part in if_part:\n",
        "        var, val = convert_fact(part)\n",
        "        if isinstance(val, tuple):\n",
        "            comp = compare(facts.get(var)[1], val[0], val[1], facts.get(var)[0])  # compare(a, op, b, op2)\n",
        "            check_list.append(comp)\n",
        "        else:\n",
        "            if facts.get(var) == val:\n",
        "                check_list.append(True)\n",
        "            else:\n",
        "                check_list.append(False)\n",
        "\n",
        "    if And:\n",
        "        if all(check_list):\n",
        "            return True\n",
        "        else:\n",
        "            return False\n",
        "    elif Or:\n",
        "        if any(check_list):\n",
        "            return True\n",
        "        else:\n",
        "            return False\n",
        "    else:\n",
        "        return check_list[0]"
      ]
    },
    {
      "cell_type": "code",
      "execution_count": 12,
      "metadata": {
        "id": "9n1AGfXXajGS"
      },
      "outputs": [],
      "source": [
        "goal = 'citrus_fruit'\n",
        "value = True"
      ]
    },
    {
      "cell_type": "code",
      "execution_count": 13,
      "metadata": {
        "id": "w_wh3xqvYljf"
      },
      "outputs": [],
      "source": [
        "def forward_chaining(goal, value):\n",
        "    cycle = 0\n",
        "    rules_copy = rules.copy()\n",
        "    facts_copy = facts.copy()\n",
        "    print(f\"before starting, initial facts: {facts_copy}\\n\")\n",
        "    while rules_copy:\n",
        "        cycle += 1\n",
        "        fire = False\n",
        "        for if_part in rules_copy:\n",
        "            if check_rule(if_part[0], facts_copy): \n",
        "                fire = True\n",
        "                add_fact(rules_copy[if_part], facts_copy)\n",
        "                i = if_part[1]\n",
        "                print(f\"cycle {cycle}, R{i}:({if_part[0]} -> {rules_copy[if_part]}) fired\")\n",
        "                print(f\"facts: {facts_copy}\\n\")\n",
        "                del rules_copy[if_part]\n",
        "                break\n",
        "        if facts_copy.get(goal) == value:\n",
        "            print(f\"cycle {cycle}, goal reached, facts: {facts_copy}\")\n",
        "            return True\n",
        "            break\n",
        "        elif not fire:\n",
        "            print(f\"cycle {cycle}, no rule fired, facts: {facts_copy}\")\n",
        "            return False\n",
        "            break"
      ]
    },
    {
      "cell_type": "code",
      "execution_count": 14,
      "metadata": {
        "colab": {
          "base_uri": "https://localhost:8080/"
        },
        "id": "Gz027DMdgIk8",
        "outputId": "6634232a-d3bc-46df-c79b-6240938be1f1"
      },
      "outputs": [
        {
          "name": "stdout",
          "output_type": "stream",
          "text": [
            "before starting, initial facts: {'seeds': ('=', 0), 'diameter': ('=', 7), 'skin_smell': True, 'color': 'orange', '#goal': 'citrus_fruit'}\n",
            "\n",
            "cycle 1, R4:(skin_smell -> perfumed) fired\n",
            "facts: {'seeds': ('=', 0), 'diameter': ('=', 7), 'skin_smell': True, 'color': 'orange', '#goal': 'citrus_fruit', 'perfumed': True}\n",
            "\n",
            "cycle 2, R13:(diameter > 2 AND diameter < 10 -> size is medium) fired\n",
            "facts: {'seeds': ('=', 0), 'diameter': ('=', 7), 'skin_smell': True, 'color': 'orange', '#goal': 'citrus_fruit', 'perfumed': True, 'size': 'medium'}\n",
            "\n",
            "cycle 3, R9:(perfumed AND color is orange AND size is medium -> fruit is orange) fired\n",
            "facts: {'seeds': ('=', 0), 'diameter': ('=', 7), 'skin_smell': True, 'color': 'orange', '#goal': 'citrus_fruit', 'perfumed': True, 'size': 'medium', 'fruit': 'orange'}\n",
            "\n",
            "cycle 4, R5:(fruit is lemon OR fruit is orange OR fruit is pomelo OR fruit is grapefruit -> citrus_fruit) fired\n",
            "facts: {'seeds': ('=', 0), 'diameter': ('=', 7), 'skin_smell': True, 'color': 'orange', '#goal': 'citrus_fruit', 'perfumed': True, 'size': 'medium', 'fruit': 'orange', 'citrus_fruit': True}\n",
            "\n",
            "cycle 4, goal reached, facts: {'seeds': ('=', 0), 'diameter': ('=', 7), 'skin_smell': True, 'color': 'orange', '#goal': 'citrus_fruit', 'perfumed': True, 'size': 'medium', 'fruit': 'orange', 'citrus_fruit': True}\n"
          ]
        },
        {
          "data": {
            "text/plain": [
              "True"
            ]
          },
          "execution_count": 14,
          "metadata": {},
          "output_type": "execute_result"
        }
      ],
      "source": [
        "forward_chaining(goal, value)"
      ]
    },
    {
      "cell_type": "code",
      "execution_count": 15,
      "metadata": {
        "id": "J1mu1Wt8yTPF"
      },
      "outputs": [],
      "source": [
        "def backward_chaining(goal, value, facts, rules, used_rules=None, deduced_facts=None):\n",
        "    if used_rules is None:\n",
        "        used_rules = set()\n",
        "    if deduced_facts is None:\n",
        "        deduced_facts = set()\n",
        "    \n",
        "    \n",
        "    print(f\"Goal: {goal} = {value}\")\n",
        "    \n",
        "    # Check if already goal is given in facts \n",
        "    if goal in facts: # \n",
        "        fact_value = facts[goal] \n",
        "        if isinstance(fact_value, tuple): # if it is a tuple, check the operator and value\n",
        "            op, val = fact_value\n",
        "            if op == '=' and val == value:\n",
        "                print(f\"Already known: {goal} = {value}\")\n",
        "                return True\n",
        "        elif fact_value == value: # if it is not a tuple, check the value directly\n",
        "            print(f\"Already known: {goal} = {value}\")\n",
        "            return True\n",
        "    # or deduced it\n",
        "    if (goal, value) in deduced_facts:\n",
        "        print(f\"Already deduced: {goal} = {value}\")\n",
        "        return True\n",
        "    \n",
        "    \n",
        "    \n",
        "    \n",
        "    \n",
        "    # Find applicable rules that conclude the goal to start with it \n",
        "    applicable_rules = []\n",
        "    for rule_conditions, rule_conclusion in rules.items():\n",
        "        \n",
        "        conditions_str, rule_id = rule_conditions # Extract the conditions and rule ID\n",
        "        concl_var, concl_val = convert_fact(rule_conclusion)\n",
        "        if concl_var == goal and concl_val == value and rule_id not in used_rules:\n",
        "            applicable_rules.append((conditions_str, rule_id))\n",
        "    \n",
        "    if not applicable_rules:\n",
        "        print(f\"No rules can conclude {goal} = {value}\")\n",
        "        return False\n",
        "    \n",
        "    \n",
        "    # print (f\"Applicable rules for {goal} = {value}: {applicable_rules}\")    \n",
        "    \n",
        "    \n",
        "    \n",
        "    \n",
        "    \n",
        "    \n",
        "    for conditions, rule_id in applicable_rules:\n",
        "        print(f\"Trying rule {rule_id}: IF {conditions} THEN {goal} = {value}\")\n",
        "        \n",
        "        current_used_rules = used_rules.copy()\n",
        "        if rule_id is not None:\n",
        "            current_used_rules.add(rule_id)\n",
        "        \n",
        "        # Use check_rule to verify conditions\n",
        "        if check_rule(conditions, facts):  # \n",
        "            facts[goal] = value\n",
        "            deduced_facts.add((goal, value))\n",
        "            print(f\"Proved {goal} = {value} using rule {rule_id}\")\n",
        "            print(f\"Updated facts: {facts}\")\n",
        "            return True\n",
        "        else:\n",
        "            # If check_rule fails, try to prove subgoals recursively\n",
        "            if ' AND ' in conditions or ' OR ' in conditions:\n",
        "                # Handle AND/OR conditions\n",
        "                if ' AND ' in conditions:\n",
        "                    condition_parts = conditions.split(' AND ')\n",
        "                    is_and = True\n",
        "                else:  # OR case\n",
        "                    condition_parts = conditions.split(' OR ')\n",
        "                    is_and = False\n",
        "                \n",
        "                proved = False\n",
        "                current_deduced = set()\n",
        "                \n",
        "                for condition in condition_parts:\n",
        "                    var, val = convert_fact(condition)\n",
        "                    \n",
        "                    # Recursive proof for each subgoal\n",
        "                    if backward_chaining(var, val, facts, rules, current_used_rules, deduced_facts):\n",
        "                        current_deduced.add((var, val))\n",
        "                        if not is_and:  # OR condition met\n",
        "                            proved = True\n",
        "                            break\n",
        "                    elif is_and:  # AND condition failed\n",
        "                        break\n",
        "                else:\n",
        "                    # All conditions met for AND case\n",
        "                    if is_and:\n",
        "                        proved = True\n",
        "                \n",
        "                if proved:\n",
        "                    facts[goal] = value\n",
        "                    deduced_facts.update(current_deduced)\n",
        "                    deduced_facts.add((goal, value))\n",
        "                    print(f\"Proved {goal} = {value} using rule {rule_id}\")\n",
        "                    print(f\"Updated facts: {facts}\")\n",
        "                    return True\n",
        "    \n",
        "    print(f\"Failed to prove {goal} = {value}\")\n",
        "    return False"
      ]
    },
    {
      "cell_type": "code",
      "execution_count": 16,
      "metadata": {},
      "outputs": [
        {
          "name": "stdout",
          "output_type": "stream",
          "text": [
            "Goal: citrus_fruit = True\n",
            "Trying rule 5: IF fruit is lemon OR fruit is orange OR fruit is pomelo OR fruit is grapefruit THEN citrus_fruit = True\n",
            "Goal: fruit = lemon\n",
            "Trying rule 6: IF size is medium AND color is yellow AND perfumed THEN fruit = lemon\n",
            "Goal: size = medium\n",
            "Trying rule 13: IF diameter > 2 AND diameter < 10 THEN size = medium\n",
            "Proved size = medium using rule 13\n",
            "Updated facts: {'seeds': ('=', 0), 'diameter': ('=', 7), 'skin_smell': True, 'color': 'orange', '#goal': 'citrus_fruit', 'size': 'medium'}\n",
            "Goal: color = yellow\n",
            "No rules can conclude color = yellow\n",
            "Failed to prove fruit = lemon\n",
            "Goal: fruit = orange\n",
            "Trying rule 9: IF perfumed AND color is orange AND size is medium THEN fruit = orange\n",
            "Goal: perfumed = True\n",
            "Trying rule 4: IF skin_smell THEN perfumed = True\n",
            "Proved perfumed = True using rule 4\n",
            "Updated facts: {'seeds': ('=', 0), 'diameter': ('=', 7), 'skin_smell': True, 'color': 'orange', '#goal': 'citrus_fruit', 'size': 'medium', 'perfumed': True}\n",
            "Goal: color = orange\n",
            "Already known: color = orange\n",
            "Goal: size = medium\n",
            "Already known: size = medium\n",
            "Proved fruit = orange using rule 9\n",
            "Updated facts: {'seeds': ('=', 0), 'diameter': ('=', 7), 'skin_smell': True, 'color': 'orange', '#goal': 'citrus_fruit', 'size': 'medium', 'perfumed': True, 'fruit': 'orange'}\n",
            "Proved citrus_fruit = True using rule 5\n",
            "Updated facts: {'seeds': ('=', 0), 'diameter': ('=', 7), 'skin_smell': True, 'color': 'orange', '#goal': 'citrus_fruit', 'size': 'medium', 'perfumed': True, 'fruit': 'orange', 'citrus_fruit': True}\n"
          ]
        }
      ],
      "source": [
        "goal = facts['#goal']\n",
        "result = backward_chaining(goal, True, facts, rules)"
      ]
    }
  ],
  "metadata": {
    "colab": {
      "authorship_tag": "ABX9TyOOryAUT3wjtAzrlDqVeCAJ",
      "include_colab_link": true,
      "provenance": []
    },
    "kernelspec": {
      "display_name": "Python 3",
      "name": "python3"
    },
    "language_info": {
      "codemirror_mode": {
        "name": "ipython",
        "version": 3
      },
      "file_extension": ".py",
      "mimetype": "text/x-python",
      "name": "python",
      "nbconvert_exporter": "python",
      "pygments_lexer": "ipython3",
      "version": "3.12.2"
    }
  },
  "nbformat": 4,
  "nbformat_minor": 0
}
