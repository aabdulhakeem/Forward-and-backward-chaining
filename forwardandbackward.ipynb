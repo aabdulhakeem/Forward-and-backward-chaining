{
  "nbformat": 4,
  "nbformat_minor": 0,
  "metadata": {
    "colab": {
      "provenance": [],
      "authorship_tag": "ABX9TyOOryAUT3wjtAzrlDqVeCAJ",
      "include_colab_link": true
    },
    "kernelspec": {
      "name": "python3",
      "display_name": "Python 3"
    },
    "language_info": {
      "name": "python"
    }
  },
  "cells": [
    {
      "cell_type": "markdown",
      "metadata": {
        "id": "view-in-github",
        "colab_type": "text"
      },
      "source": [
        "<a href=\"https://colab.research.google.com/github/aabdulhakeem/Forward-and-backward-chaining/blob/main/forwardandbackward.ipynb\" target=\"_parent\"><img src=\"https://colab.research.google.com/assets/colab-badge.svg\" alt=\"Open In Colab\"/></a>"
      ]
    },
    {
      "cell_type": "code",
      "execution_count": 173,
      "metadata": {
        "id": "6lGTl0GOI4Xo"
      },
      "outputs": [],
      "source": [
        "facts = {}\n",
        "rules = {}"
      ]
    },
    {
      "cell_type": "code",
      "source": [
        "def convert_fact(line):\n",
        "    fact = line.strip().split()\n",
        "    if len(fact) > 1:\n",
        "      if fact[1] == '>=' or fact[1] == '<=' or fact[1] == '<' or fact[1] == '>' or fact[1] == '=':\n",
        "        return fact[0], (fact[1], int(fact[2]))\n",
        "      else:\n",
        "        return fact[0], fact[-1]\n",
        "\n",
        "    elif len(fact):\n",
        "        return fact[0], True\n",
        "    else:\n",
        "        return None, None"
      ],
      "metadata": {
        "id": "7Wv0WqfhNoDK"
      },
      "execution_count": 174,
      "outputs": []
    },
    {
      "cell_type": "code",
      "source": [
        "def add_fact(line, facts):\n",
        "    var, val = convert_fact(line)\n",
        "    facts[var] = val"
      ],
      "metadata": {
        "id": "-TZVl4GnVO8H"
      },
      "execution_count": 175,
      "outputs": []
    },
    {
      "cell_type": "code",
      "source": [
        "with open('/content/facts.txt', 'r') as fact_file:\n",
        "    for line in fact_file:\n",
        "        add_fact(line, facts)"
      ],
      "metadata": {
        "id": "NP4UJrpJPyK-"
      },
      "execution_count": 176,
      "outputs": []
    },
    {
      "cell_type": "code",
      "source": [
        "facts"
      ],
      "metadata": {
        "colab": {
          "base_uri": "https://localhost:8080/"
        },
        "id": "lKrb7wqNRYbV",
        "outputId": "c669d811-fa53-4a39-e323-d994e4128709"
      },
      "execution_count": 177,
      "outputs": [
        {
          "output_type": "execute_result",
          "data": {
            "text/plain": [
              "{'seeds': ('=', 0),\n",
              " 'diameter': ('=', 7),\n",
              " 'skin_smell': True,\n",
              " 'color': 'orange'}"
            ]
          },
          "metadata": {},
          "execution_count": 177
        }
      ]
    },
    {
      "cell_type": "code",
      "source": [
        "def convert_rule(line):\n",
        "    rule = line.strip().split(' THEN ')\n",
        "    if_part = rule[0].strip()[3:]\n",
        "    then_part = rule[1].strip()\n",
        "    return if_part, then_part"
      ],
      "metadata": {
        "id": "QjeqvgQeQtgv"
      },
      "execution_count": 178,
      "outputs": []
    },
    {
      "cell_type": "code",
      "source": [
        "def add_rule(line, i):\n",
        "    if_part, then_part = convert_rule(line)\n",
        "    rules[(if_part, i)] = then_part"
      ],
      "metadata": {
        "id": "_dLxpZ0BVaze"
      },
      "execution_count": 179,
      "outputs": []
    },
    {
      "cell_type": "code",
      "source": [
        "with open('/content/rules.txt', 'r') as rule_file:\n",
        "    i = 1\n",
        "    for line in rule_file:\n",
        "        add_rule(line, i)\n",
        "        i += 1"
      ],
      "metadata": {
        "id": "zfcxv3JxQezJ"
      },
      "execution_count": 180,
      "outputs": []
    },
    {
      "cell_type": "code",
      "source": [
        "rules"
      ],
      "metadata": {
        "colab": {
          "base_uri": "https://localhost:8080/"
        },
        "id": "fdN1W5IZRdQ7",
        "outputId": "06ac834a-c722-4efe-a1d1-acdf15deada8"
      },
      "execution_count": 181,
      "outputs": [
        {
          "output_type": "execute_result",
          "data": {
            "text/plain": [
              "{('shape is long AND color is yellow', 1): 'fruit is banana',\n",
              " ('shape is round AND color is red AND size is medium', 2): 'fruit is apple',\n",
              " ('shape is round AND color is red AND size is small', 3): 'fruit is cherry',\n",
              " ('skin_smell', 4): 'perfumed',\n",
              " ('fruit is lemon OR fruit is orange OR fruit is pomelo OR fruit is grapefruit',\n",
              "  5): 'citrus_fruit',\n",
              " ('size is medium AND color is yellow AND perfumed', 6): 'fruit is lemon',\n",
              " ('size is medium AND color is green', 7): 'fruit is kiwi',\n",
              " ('size is big AND perfumed AND color is orange AND citrus_fruit',\n",
              "  8): 'fruit is grapefruit',\n",
              " ('perfumed AND color is orange AND size is medium', 9): 'fruit is orange',\n",
              " ('perfumed AND color is red AND size is small AND seeds = 0',\n",
              "  10): 'fruit is strawberry',\n",
              " ('diameter < 2', 11): 'size is small',\n",
              " ('diameter > 10', 12): 'size is big',\n",
              " ('diameter > 2 AND diameter < 10', 13): 'size is medium'}"
            ]
          },
          "metadata": {},
          "execution_count": 181
        }
      ]
    },
    {
      "cell_type": "code",
      "source": [
        "def compare(a, op, b, op2):\n",
        "  if op2 == '=':\n",
        "    if op == '>=':\n",
        "        return a >= b\n",
        "    elif op == '<=':\n",
        "        return a <= b\n",
        "    elif op == '<':\n",
        "        return a < b\n",
        "    elif op == '>':\n",
        "        return a > b\n",
        "    elif op == '=':\n",
        "        return a == b"
      ],
      "metadata": {
        "id": "5obwXBk1nkQo"
      },
      "execution_count": 182,
      "outputs": []
    },
    {
      "cell_type": "code",
      "source": [
        "def check_rule(if_part, facts):\n",
        "    check_list = []\n",
        "    And = False\n",
        "    Or = False\n",
        "    if 'AND' in if_part:\n",
        "        And = True\n",
        "        if_part = if_part.split(' AND ')\n",
        "    elif 'OR' in if_part:\n",
        "        Or = True\n",
        "        if_part = if_part.split(' OR ')\n",
        "    else:\n",
        "        if_part = [if_part]\n",
        "\n",
        "    for part in if_part:\n",
        "        var, val = convert_fact(part)\n",
        "        if isinstance(val, tuple):\n",
        "            comp = compare(facts.get(var)[1], val[0], val[1], facts.get(var)[0])\n",
        "            check_list.append(comp)\n",
        "        else:\n",
        "            if facts.get(var) == val:\n",
        "                check_list.append(True)\n",
        "            else:\n",
        "                check_list.append(False)\n",
        "\n",
        "    if And:\n",
        "        if all(check_list):\n",
        "            return True\n",
        "        else:\n",
        "            return False\n",
        "    elif Or:\n",
        "        if any(check_list):\n",
        "            return True\n",
        "        else:\n",
        "            return False\n",
        "    else:\n",
        "        return check_list[0]"
      ],
      "metadata": {
        "id": "EaQeGhJzQNyX"
      },
      "execution_count": 183,
      "outputs": []
    },
    {
      "cell_type": "code",
      "source": [
        "goal = 'citrus_fruit'\n",
        "value = True"
      ],
      "metadata": {
        "id": "9n1AGfXXajGS"
      },
      "execution_count": 184,
      "outputs": []
    },
    {
      "cell_type": "code",
      "source": [
        "def forward_chaining(goal, value):\n",
        "    cycle = 0\n",
        "    rules_copy = rules.copy()\n",
        "    facts_copy = facts.copy()\n",
        "    print(f\"before starting, initial facts: {facts_copy}\\n\")\n",
        "    while rules_copy:\n",
        "        cycle += 1\n",
        "        fire = False\n",
        "        for if_part in rules_copy:\n",
        "            if check_rule(if_part[0], facts_copy):\n",
        "                fire = True\n",
        "                add_fact(rules_copy[if_part], facts_copy)\n",
        "                i = if_part[1]\n",
        "                print(f\"cycle {cycle}, R{i}:({if_part[0]} -> {rules_copy[if_part]}) fired\")\n",
        "                print(f\"facts: {facts_copy}\\n\")\n",
        "                del rules_copy[if_part]\n",
        "                break\n",
        "        if facts_copy.get(goal) == value:\n",
        "            print(f\"cycle {cycle}, goal reached, facts: {facts_copy}\")\n",
        "            return True\n",
        "            break\n",
        "        elif not fire:\n",
        "            print(f\"cycle {cycle}, no rule fired, facts: {facts_copy}\")\n",
        "            return False\n",
        "            break"
      ],
      "metadata": {
        "id": "w_wh3xqvYljf"
      },
      "execution_count": 197,
      "outputs": []
    },
    {
      "cell_type": "code",
      "source": [
        "forward_chaining(goal, value)"
      ],
      "metadata": {
        "colab": {
          "base_uri": "https://localhost:8080/"
        },
        "id": "Gz027DMdgIk8",
        "outputId": "6634232a-d3bc-46df-c79b-6240938be1f1"
      },
      "execution_count": 198,
      "outputs": [
        {
          "output_type": "stream",
          "name": "stdout",
          "text": [
            "before starting, initial facts: {'seeds': ('=', 0), 'diameter': ('=', 7), 'skin_smell': True, 'color': 'orange'}\n",
            "\n",
            "cycle 1, R4:(skin_smell -> perfumed) fired\n",
            "facts: {'seeds': ('=', 0), 'diameter': ('=', 7), 'skin_smell': True, 'color': 'orange', 'perfumed': True}\n",
            "\n",
            "cycle 2, R13:(diameter > 2 AND diameter < 10 -> size is medium) fired\n",
            "facts: {'seeds': ('=', 0), 'diameter': ('=', 7), 'skin_smell': True, 'color': 'orange', 'perfumed': True, 'size': 'medium'}\n",
            "\n",
            "cycle 3, R9:(perfumed AND color is orange AND size is medium -> fruit is orange) fired\n",
            "facts: {'seeds': ('=', 0), 'diameter': ('=', 7), 'skin_smell': True, 'color': 'orange', 'perfumed': True, 'size': 'medium', 'fruit': 'orange'}\n",
            "\n",
            "cycle 4, R5:(fruit is lemon OR fruit is orange OR fruit is pomelo OR fruit is grapefruit -> citrus_fruit) fired\n",
            "facts: {'seeds': ('=', 0), 'diameter': ('=', 7), 'skin_smell': True, 'color': 'orange', 'perfumed': True, 'size': 'medium', 'fruit': 'orange', 'citrus_fruit': True}\n",
            "\n",
            "cycle 4, goal reached, facts: {'seeds': ('=', 0), 'diameter': ('=', 7), 'skin_smell': True, 'color': 'orange', 'perfumed': True, 'size': 'medium', 'fruit': 'orange', 'citrus_fruit': True}\n"
          ]
        },
        {
          "output_type": "execute_result",
          "data": {
            "text/plain": [
              "True"
            ]
          },
          "metadata": {},
          "execution_count": 198
        }
      ]
    },
    {
      "cell_type": "code",
      "source": [],
      "metadata": {
        "id": "J1mu1Wt8yTPF"
      },
      "execution_count": null,
      "outputs": []
    }
  ]
}