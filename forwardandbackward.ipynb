{
  "nbformat": 4,
  "nbformat_minor": 0,
  "metadata": {
    "colab": {
      "provenance": [],
      "authorship_tag": "ABX9TyNdDTKECuoJrpCLmsSyFmXw",
      "include_colab_link": true
    },
    "kernelspec": {
      "name": "python3",
      "display_name": "Python 3"
    },
    "language_info": {
      "name": "python"
    }
  },
  "cells": [
    {
      "cell_type": "markdown",
      "metadata": {
        "id": "view-in-github",
        "colab_type": "text"
      },
      "source": [
        "<a href=\"https://colab.research.google.com/github/aabdulhakeem/Forward-and-backward-chaining/blob/main/forwardandbackward.ipynb\" target=\"_parent\"><img src=\"https://colab.research.google.com/assets/colab-badge.svg\" alt=\"Open In Colab\"/></a>"
      ]
    },
    {
      "cell_type": "code",
      "execution_count": 12,
      "metadata": {
        "id": "6lGTl0GOI4Xo"
      },
      "outputs": [],
      "source": [
        "facts = {}\n",
        "rules = {}"
      ]
    },
    {
      "cell_type": "code",
      "source": [
        "def convert_fact(line):\n",
        "    fact = line.strip().split()\n",
        "    if len(fact) > 1:\n",
        "        return fact[0], fact[-1]\n",
        "    else:\n",
        "        return fact[0], True"
      ],
      "metadata": {
        "id": "7Wv0WqfhNoDK"
      },
      "execution_count": 13,
      "outputs": []
    },
    {
      "cell_type": "code",
      "source": [
        "def add_fact(line):\n",
        "    var, val = convert_fact(line)\n",
        "    facts[var] = val"
      ],
      "metadata": {
        "id": "-TZVl4GnVO8H"
      },
      "execution_count": 20,
      "outputs": []
    },
    {
      "cell_type": "code",
      "source": [
        "with open('/content/facts.txt', 'r') as fact_file:\n",
        "    for line in fact_file:\n",
        "        add_fact(line)"
      ],
      "metadata": {
        "id": "NP4UJrpJPyK-"
      },
      "execution_count": 21,
      "outputs": []
    },
    {
      "cell_type": "code",
      "source": [
        "facts"
      ],
      "metadata": {
        "colab": {
          "base_uri": "https://localhost:8080/"
        },
        "id": "lKrb7wqNRYbV",
        "outputId": "d386b10a-4a4a-4948-f3a1-415a6b38b837"
      },
      "execution_count": 22,
      "outputs": [
        {
          "output_type": "execute_result",
          "data": {
            "text/plain": [
              "{'seeds': '0', 'diameter': '7', 'skin_smell': True, 'color': 'orange'}"
            ]
          },
          "metadata": {},
          "execution_count": 22
        }
      ]
    },
    {
      "cell_type": "code",
      "source": [
        "def convert_rule(line):\n",
        "    rule = line.strip().split(' THEN ')\n",
        "    if_part = rule[0].strip()[3:]\n",
        "    then_part = rule[1].strip()\n",
        "    return if_part, then_part"
      ],
      "metadata": {
        "id": "QjeqvgQeQtgv"
      },
      "execution_count": 16,
      "outputs": []
    },
    {
      "cell_type": "code",
      "source": [
        "def add_rule(line):\n",
        "    if_part, then_part = convert_rule(line)\n",
        "    rules[if_part] = then_part"
      ],
      "metadata": {
        "id": "_dLxpZ0BVaze"
      },
      "execution_count": 23,
      "outputs": []
    },
    {
      "cell_type": "code",
      "source": [
        "with open('/content/rules.txt', 'r') as rule_file:\n",
        "    for line in rule_file:\n",
        "        add_rule(line)"
      ],
      "metadata": {
        "id": "zfcxv3JxQezJ"
      },
      "execution_count": 24,
      "outputs": []
    },
    {
      "cell_type": "code",
      "source": [
        "rules"
      ],
      "metadata": {
        "colab": {
          "base_uri": "https://localhost:8080/"
        },
        "id": "fdN1W5IZRdQ7",
        "outputId": "200d5290-9503-47e1-870c-c0f236949fe4"
      },
      "execution_count": 25,
      "outputs": [
        {
          "output_type": "execute_result",
          "data": {
            "text/plain": [
              "{'shape is long AND color is yellow': 'fruit is banana',\n",
              " 'shape is round AND color is red AND size is medium': 'fruit is apple',\n",
              " 'shape is round AND color is red AND size is small': 'fruit is cherry',\n",
              " 'skin_smell': 'perfumed',\n",
              " 'fruit is lemon OR fruit is orange OR fruit is pomelo OR fruit is grapefruit': 'citrus_fruit',\n",
              " 'size is medium AND color is yellow AND perfumed': 'fruit is lemon',\n",
              " 'size is medium AND color is green': 'fruit is kiwi',\n",
              " 'size is big AND perfumed AND color is orange AND citrus_fruit': 'fruit is grapefruit',\n",
              " 'perfumed AND color is orange AND size is medium': 'fruit is orange',\n",
              " 'perfumed AND color is red AND size is small AND seeds = 0': 'fruit is strawberry',\n",
              " 'diameter < 2': 'size is small',\n",
              " 'diameter > 10': 'size is big',\n",
              " 'diameter > 2 AND diameter < 10': 'size is medium'}"
            ]
          },
          "metadata": {},
          "execution_count": 25
        }
      ]
    },
    {
      "cell_type": "code",
      "source": [
        "def check_rule(if_part,then_part):\n",
        "    check_list = []\n",
        "    And = False\n",
        "    Or = False\n",
        "    if 'AND' in if_part:\n",
        "        And = True\n",
        "        if_part = if_part.split(' AND ')\n",
        "    elif 'OR' in if_part:\n",
        "        Or = True\n",
        "        if_part = if_part.split(' OR ')\n",
        "\n",
        "    for part in if_part:\n",
        "        var, val = convert_fact(part)\n",
        "        if facts.get(var) == val:\n",
        "            check_list.append(True)\n",
        "        else:\n",
        "            check_list.append(False)\n",
        "\n",
        "    if And:\n",
        "        if all(check_list):\n",
        "            return True\n",
        "        else:\n",
        "            return False\n",
        "    elif Or:\n",
        "        if any(check_list):\n",
        "            return True\n",
        "        else:\n",
        "            return False\n",
        "    else:\n",
        "        return check_list[0]"
      ],
      "metadata": {
        "id": "EaQeGhJzQNyX"
      },
      "execution_count": 26,
      "outputs": []
    }
  ]
}